{
 "cells": [
  {
   "cell_type": "code",
   "execution_count": 1,
   "metadata": {},
   "outputs": [],
   "source": [
    "import tweepy"
   ]
  },
  {
   "cell_type": "code",
   "execution_count": 2,
   "metadata": {},
   "outputs": [],
   "source": [
    "consumer_key = \"P4KR5pvVlbPsLKt8KQ2PGKnRU\"\n",
    "consumer_secret = \"EtNjFas5rFEidWU7Ope1Nr50ejOJadZGPRghbnyqhH2ntt2T0O\"\n",
    "access_token = \"993342359655014401-NTqPmqaFYEUbDKGwlgUFWaGf1GNqPGX\"\n",
    "access_token_secret = \"LCphhKi37T3nPvgfrUTlzFskDnrKpAdcqcdygL0auev9g\""
   ]
  },
  {
   "cell_type": "code",
   "execution_count": 3,
   "metadata": {},
   "outputs": [],
   "source": [
    "auth = tweepy.OAuthHandler(consumer_key, consumer_secret)\n",
    "auth.set_access_token(access_token, access_token_secret)"
   ]
  },
  {
   "cell_type": "code",
   "execution_count": 4,
   "metadata": {},
   "outputs": [],
   "source": [
    "api = tweepy.API(auth)"
   ]
  },
  {
   "cell_type": "code",
   "execution_count": 5,
   "metadata": {},
   "outputs": [],
   "source": [
    "import pandas as pd\n",
    "import numpy as np"
   ]
  },
  {
   "cell_type": "code",
   "execution_count": 9,
   "metadata": {},
   "outputs": [
    {
     "data": {
      "text/html": [
       "<div>\n",
       "<style scoped>\n",
       "    .dataframe tbody tr th:only-of-type {\n",
       "        vertical-align: middle;\n",
       "    }\n",
       "\n",
       "    .dataframe tbody tr th {\n",
       "        vertical-align: top;\n",
       "    }\n",
       "\n",
       "    .dataframe thead th {\n",
       "        text-align: right;\n",
       "    }\n",
       "</style>\n",
       "<table border=\"1\" class=\"dataframe\">\n",
       "  <thead>\n",
       "    <tr style=\"text-align: right;\">\n",
       "      <th></th>\n",
       "      <th>No</th>\n",
       "      <th>TEAM</th>\n",
       "      <th>TWITTER_ACCOUNT</th>\n",
       "    </tr>\n",
       "  </thead>\n",
       "  <tbody>\n",
       "    <tr>\n",
       "      <th>0</th>\n",
       "      <td>1</td>\n",
       "      <td>Boston Red Sox</td>\n",
       "      <td>RedSox</td>\n",
       "    </tr>\n",
       "    <tr>\n",
       "      <th>1</th>\n",
       "      <td>2</td>\n",
       "      <td>New York Yankees</td>\n",
       "      <td>Yankees</td>\n",
       "    </tr>\n",
       "    <tr>\n",
       "      <th>2</th>\n",
       "      <td>3</td>\n",
       "      <td>Oakland Athletics</td>\n",
       "      <td>Athletics</td>\n",
       "    </tr>\n",
       "    <tr>\n",
       "      <th>3</th>\n",
       "      <td>4</td>\n",
       "      <td>Texas Rangers</td>\n",
       "      <td>Rangers</td>\n",
       "    </tr>\n",
       "    <tr>\n",
       "      <th>4</th>\n",
       "      <td>5</td>\n",
       "      <td>Seattle Mariners</td>\n",
       "      <td>Mariners</td>\n",
       "    </tr>\n",
       "  </tbody>\n",
       "</table>\n",
       "</div>"
      ],
      "text/plain": [
       "   No               TEAM TWITTER_ACCOUNT\n",
       "0   1     Boston Red Sox          RedSox\n",
       "1   2   New York Yankees         Yankees\n",
       "2   3  Oakland Athletics       Athletics\n",
       "3   4      Texas Rangers         Rangers\n",
       "4   5   Seattle Mariners        Mariners"
      ]
     },
     "execution_count": 9,
     "metadata": {},
     "output_type": "execute_result"
    }
   ],
   "source": [
    "teams = pd.read_csv('teams.csv')\n",
    "teams.head()"
   ]
  },
  {
   "cell_type": "code",
   "execution_count": 13,
   "metadata": {},
   "outputs": [],
   "source": [
    "for n in range(len(teams['TWITTER_ACCOUNT'])):\n",
    "    team_twitter = pd.DataFrame(columns = ['twitterID',\n",
    "                                            'userID', \n",
    "                                            'username', \n",
    "                                            'content', \n",
    "                                            'retweet', \n",
    "                                            'favorite',\n",
    "                                            'date'])\n",
    "    tweets = tweepy.Cursor(api.user_timeline, screen_name = teams.iat[n, 2],count = 50).pages(5)\n",
    "    m = 0\n",
    "    for page in tweets:\n",
    "        for tweet in page:\n",
    "            team_twitter.loc[m,'twitterID'] = tweet.id\n",
    "            team_twitter.loc[m,'userID'] = tweet.user.id\n",
    "            team_twitter.loc[m,'username'] = tweet.user.name\n",
    "            team_twitter.loc[m,'content'] = tweet.text\n",
    "            team_twitter.loc[m,'retweet'] = tweet.retweet_count\n",
    "            team_twitter.loc[m,'favorite'] = tweet.favorite_count\n",
    "            team_twitter.loc[m,'date'] = tweet.created_at\n",
    "            m = m + 1\n",
    "    team_twitter.to_csv('teams/ %s.csv'%teams.iat[n, 1],index=False)"
   ]
  },
  {
   "cell_type": "code",
   "execution_count": 14,
   "metadata": {},
   "outputs": [
    {
     "data": {
      "text/html": [
       "<div>\n",
       "<style scoped>\n",
       "    .dataframe tbody tr th:only-of-type {\n",
       "        vertical-align: middle;\n",
       "    }\n",
       "\n",
       "    .dataframe tbody tr th {\n",
       "        vertical-align: top;\n",
       "    }\n",
       "\n",
       "    .dataframe thead th {\n",
       "        text-align: right;\n",
       "    }\n",
       "</style>\n",
       "<table border=\"1\" class=\"dataframe\">\n",
       "  <thead>\n",
       "    <tr style=\"text-align: right;\">\n",
       "      <th></th>\n",
       "      <th>No</th>\n",
       "      <th>PLAYER</th>\n",
       "      <th>TWITTER_ACCOUNT</th>\n",
       "    </tr>\n",
       "  </thead>\n",
       "  <tbody>\n",
       "    <tr>\n",
       "      <th>0</th>\n",
       "      <td>1</td>\n",
       "      <td>Nelson Cruz</td>\n",
       "      <td>ncboomstick23</td>\n",
       "    </tr>\n",
       "    <tr>\n",
       "      <th>1</th>\n",
       "      <td>2</td>\n",
       "      <td>Mike Trout</td>\n",
       "      <td>MikeTrout</td>\n",
       "    </tr>\n",
       "    <tr>\n",
       "      <th>2</th>\n",
       "      <td>3</td>\n",
       "      <td>Christian Yelich</td>\n",
       "      <td>ChristianYelich</td>\n",
       "    </tr>\n",
       "    <tr>\n",
       "      <th>3</th>\n",
       "      <td>4</td>\n",
       "      <td>andrew mccutchen</td>\n",
       "      <td>TheCUTCH22</td>\n",
       "    </tr>\n",
       "    <tr>\n",
       "      <th>4</th>\n",
       "      <td>5</td>\n",
       "      <td>Bryce Harper</td>\n",
       "      <td>Bharper3407</td>\n",
       "    </tr>\n",
       "  </tbody>\n",
       "</table>\n",
       "</div>"
      ],
      "text/plain": [
       "   No            PLAYER  TWITTER_ACCOUNT\n",
       "0   1       Nelson Cruz    ncboomstick23\n",
       "1   2        Mike Trout        MikeTrout\n",
       "2   3  Christian Yelich  ChristianYelich\n",
       "3   4  andrew mccutchen       TheCUTCH22\n",
       "4   5      Bryce Harper      Bharper3407"
      ]
     },
     "execution_count": 14,
     "metadata": {},
     "output_type": "execute_result"
    }
   ],
   "source": [
    "players = pd.read_csv('players.csv')\n",
    "players.head()"
   ]
  },
  {
   "cell_type": "code",
   "execution_count": 15,
   "metadata": {},
   "outputs": [],
   "source": [
    "for n in range(len(players['TWITTER_ACCOUNT'])):\n",
    "    player_twitter = pd.DataFrame(columns = ['twitterID',\n",
    "                                            'userID', \n",
    "                                            'username', \n",
    "                                            'content', \n",
    "                                            'retweet', \n",
    "                                            'favorite',\n",
    "                                            'date'])\n",
    "    tweets = tweepy.Cursor(api.user_timeline, screen_name = players.iat[n, 2],count = 50).pages(5)\n",
    "    m = 0\n",
    "    for page in tweets:\n",
    "        for tweet in page:\n",
    "            player_twitter.loc[m,'twitterID'] = tweet.id\n",
    "            player_twitter.loc[m,'userID'] = tweet.user.id\n",
    "            player_twitter.loc[m,'username'] = tweet.user.name\n",
    "            player_twitter.loc[m,'content'] = tweet.text\n",
    "            player_twitter.loc[m,'retweet'] = tweet.retweet_count\n",
    "            player_twitter.loc[m,'favorite'] = tweet.favorite_count\n",
    "            player_twitter.loc[m,'date'] = tweet.created_at\n",
    "            m = m + 1\n",
    "    player_twitter.to_csv('players/ %s.csv'%players.iat[n, 1],index=False)"
   ]
  },
  {
   "cell_type": "code",
   "execution_count": null,
   "metadata": {},
   "outputs": [],
   "source": []
  }
 ],
 "metadata": {
  "kernelspec": {
   "display_name": "Python 3",
   "language": "python",
   "name": "python3"
  },
  "language_info": {
   "codemirror_mode": {
    "name": "ipython",
    "version": 3
   },
   "file_extension": ".py",
   "mimetype": "text/x-python",
   "name": "python",
   "nbconvert_exporter": "python",
   "pygments_lexer": "ipython3",
   "version": "3.6.5"
  }
 },
 "nbformat": 4,
 "nbformat_minor": 2
}
